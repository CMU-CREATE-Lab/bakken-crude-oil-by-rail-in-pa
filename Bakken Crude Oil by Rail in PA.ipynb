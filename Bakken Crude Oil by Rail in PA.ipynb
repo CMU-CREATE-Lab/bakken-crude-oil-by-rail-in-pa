{
 "metadata": {
  "name": "",
  "signature": "sha256:e7117a08a64cdecdeea33f910eccedff3c4c0c0c1722f6f4f0812d5b6a6370c5"
 },
 "nbformat": 3,
 "nbformat_minor": 0,
 "worksheets": [
  {
   "cells": [
    {
     "cell_type": "markdown",
     "metadata": {},
     "source": [
      "<h1>Create shapefiles/ and json/</h1>"
     ]
    },
    {
     "cell_type": "code",
     "collapsed": false,
     "input": [
      "import os\n",
      "if not os.path.exists(\"shapefiles\"):\n",
      "    os.mkdir(\"shapefile\")\n",
      "if not os.path.exists(\"json\"):\n",
      "    os.mkdir(\"json\")"
     ],
     "language": "python",
     "metadata": {},
     "outputs": [],
     "prompt_number": 1
    },
    {
     "cell_type": "markdown",
     "metadata": {},
     "source": [
      "<h1>Unzip the bundled shapefiles and move them into shapefiles/</h1>"
     ]
    },
    {
     "cell_type": "code",
     "collapsed": false,
     "input": [
      "!unzip cmu-shapefiles-20150301_2140.zip\n",
      "!unzip cmu-shapefiles-20150301_2140/features.zip\n",
      "!unzip cmu-shapefiles-20150301_2140/rail_buffer.zip\n",
      "!unzip cmu-shapefiles-20150301_2140/raillines.zip\n",
      "mv features shapefiles/\n",
      "mv rail_buffer shapefiles/\n",
      "mv raillines shapefiles/"
     ],
     "language": "python",
     "metadata": {},
     "outputs": [],
     "prompt_number": 2
    },
    {
     "cell_type": "markdown",
     "metadata": {},
     "source": [
      "<h1>Covert each shapefile to GeoJSON and clip it to PA</h1>"
     ]
    },
    {
     "cell_type": "code",
     "collapsed": false,
     "input": [
      "io = [\n",
      "  (\"json/hospitals.json\", \"shapefiles/features/hospitals-intersect.shp\"),\n",
      "  (\"json/private-schools.json\", \"shapefiles/features/private-schools-intersect.shp\"),\n",
      "  (\"json/nursing-homes.json\", \"shapefiles/features/nursing-homes-intersect.shp\"),\n",
      "  (\"json/public-schools.json\", \"shapefiles/features/public-schools-intersect.shp\"),\n",
      "  (\"json/combined-buffer.json\", \"shapefiles/rail_buffer/COMBINED-halfmile-buffer.shp\"),\n",
      "  (\"json/csx.json\", \"shapefiles/raillines/csv-qc48l-usa-contig-meters-ALL.shp\"),\n",
      "  (\"json/ns.json\", \"shapefiles/raillines/ns-qc48l-usa-contig-meters-ALL.shp\")\n",
      "]\n",
      "\n",
      "for args in io:\n",
      "    command = \"ogr2ogr -clipdst -80.516667 39.716667 -74.683333 42.266667 -f GeoJSON -t_srs NAD83 %s %s\" % args\n",
      "    !$command"
     ],
     "language": "python",
     "metadata": {},
     "outputs": [],
     "prompt_number": 6
    },
    {
     "cell_type": "markdown",
     "metadata": {},
     "source": [
      "<h1>Identify the features so we can visualize them differently on the map</h1>"
     ]
    },
    {
     "cell_type": "code",
     "collapsed": false,
     "input": [
      "import json\n",
      "def set_property_type(property_type, filename):\n",
      "    f = open(filename)\n",
      "    a_dict = json.load(f)\n",
      "    for feature in a_dict[\"features\"]:\n",
      "        feature['properties']['type'] = property_type\n",
      "    f.close()\n",
      "    f = open(filename,'w')\n",
      "    json.dump(a_dict,f, indent=4)                                    \n",
      "    f.close()\n",
      "    "
     ],
     "language": "python",
     "metadata": {},
     "outputs": [],
     "prompt_number": 5
    },
    {
     "cell_type": "code",
     "collapsed": false,
     "input": [
      "set_property_type('hospital', \"json/hospitals.json\")\n",
      "set_property_type('privateSchool', \"json/private-schools.json\")\n",
      "set_property_type('nursingHome', \"json/nursing-homes.json\")\n",
      "set_property_type('publicSchool', \"json/public-schools.json\")"
     ],
     "language": "python",
     "metadata": {},
     "outputs": []
    },
    {
     "cell_type": "code",
     "collapsed": false,
     "input": [
      "from IPython.display import HTML\n",
      "HTML('<iframe src=\"http://projects.local/public-source/bakken-crude-oil-by-rail-in-pa.html\" width=1200 height=400></iframe>')"
     ],
     "language": "python",
     "metadata": {},
     "outputs": [],
     "prompt_number": 8
    },
    {
     "cell_type": "markdown",
     "metadata": {},
     "source": [
      "<h1>Update Public Schools</h1>"
     ]
    },
    {
     "cell_type": "code",
     "collapsed": false,
     "input": [
      "args = (\"json/public-schools.json\", \"2015-03-09-publicschoolclean.shp\")\n",
      "command = \"ogr2ogr -clipdst -80.516667 39.716667 -74.683333 42.266667 -f GeoJSON -t_srs NAD83 %s %s\" % args\n",
      "$command"
     ],
     "language": "python",
     "metadata": {},
     "outputs": [],
     "prompt_number": 3
    },
    {
     "cell_type": "code",
     "collapsed": false,
     "input": [
      "set_property_type('publicSchool', \"json/public-schools.json\")"
     ],
     "language": "python",
     "metadata": {},
     "outputs": [],
     "prompt_number": 6
    },
    {
     "cell_type": "markdown",
     "metadata": {},
     "source": [
      "<h1>Update CSX, NS and Half-Mile buffer</h1>"
     ]
    },
    {
     "cell_type": "code",
     "collapsed": false,
     "input": [
      "!unzip 2015-03-13_send_to_cmu.zip"
     ],
     "language": "python",
     "metadata": {},
     "outputs": [
      {
       "output_type": "stream",
       "stream": "stdout",
       "text": [
        "Archive:  2015-03-13_send_to_cmu.zip\r\n",
        "   creating: 2015-03-13_send_to_cmu/\r\n",
        "  inflating: 2015-03-13_send_to_cmu/2015-03-13_combined_BUFFER.zip  \r\n",
        "  inflating: 2015-03-13_send_to_cmu/2015-03-13_csx_full.zip  \r\n",
        "  inflating: 2015-03-13_send_to_cmu/2015-03-13_ns_full.zip  \r\n"
       ]
      }
     ],
     "prompt_number": 2
    },
    {
     "cell_type": "code",
     "collapsed": false,
     "input": [
      "!unzip 2015-03-13_send_to_cmu/2015-03-13_combined_BUFFER.zip \n",
      "!unzip 2015-03-13_send_to_cmu/2015-03-13_csx_full.zip\n",
      "!unzip 2015-03-13_send_to_cmu/2015-03-13_ns_full.zip"
     ],
     "language": "python",
     "metadata": {},
     "outputs": [
      {
       "output_type": "stream",
       "stream": "stdout",
       "text": [
        "Archive:  2015-03-13_send_to_cmu/2015-03-13_combined_BUFFER.zip\r\n",
        "  inflating: 2015-03-13_combined_BUFFER.dbf  \r\n",
        "  inflating: 2015-03-13_combined_BUFFER.prj  \r\n",
        "  inflating: 2015-03-13_combined_BUFFER.qpj  \r\n",
        "  inflating: 2015-03-13_combined_BUFFER.shp  \r\n",
        "  inflating: 2015-03-13_combined_BUFFER.shx  \r\n"
       ]
      },
      {
       "output_type": "stream",
       "stream": "stdout",
       "text": [
        "Archive:  2015-03-13_send_to_cmu/2015-03-13_csx_full.zip\r\n",
        "  inflating: 2015-03-13_csx_full.cpg  \r\n",
        "  inflating: 2015-03-13_csx_full.dbf  \r\n",
        "  inflating: 2015-03-13_csx_full.prj  \r\n",
        "  inflating: 2015-03-13_csx_full.qpj  \r\n",
        "  inflating: 2015-03-13_csx_full.shp  \r\n",
        "  inflating: 2015-03-13_csx_full.shx  \r\n"
       ]
      },
      {
       "output_type": "stream",
       "stream": "stdout",
       "text": [
        "Archive:  2015-03-13_send_to_cmu/2015-03-13_ns_full.zip\r\n",
        "   creating: 2015-03-13_ns_full/\r\n",
        "  inflating: 2015-03-13_ns_full/2015-03-13_ns_full.cpg  \r\n",
        "  inflating: 2015-03-13_ns_full/2015-03-13_ns_full.dbf  \r\n",
        "  inflating: 2015-03-13_ns_full/2015-03-13_ns_full.prj  \r\n",
        "  inflating: 2015-03-13_ns_full/2015-03-13_ns_full.qpj  \r\n",
        "  inflating: 2015-03-13_ns_full/2015-03-13_ns_full.shp  \r\n",
        "  inflating: 2015-03-13_ns_full/2015-03-13_ns_full.shx  \r\n"
       ]
      }
     ],
     "prompt_number": 3
    },
    {
     "cell_type": "code",
     "collapsed": false,
     "input": [
      "io = [\n",
      "  (\"json/combined-buffer.json\", \"2015-03-13_combined_BUFFER.shp\"),\n",
      "  (\"json/csx.json\", \"2015-03-13_csx_full.shp\"),\n",
      "  (\"json/ns.json\", \"2015-03-13_ns_full/2015-03-13_ns_full.shp\")\n",
      "]\n",
      "\n",
      "for args in io:\n",
      "    command = \"ogr2ogr -clipdst -80.516667 39.716667 -74.683333 42.266667 -f GeoJSON -t_srs NAD83 %s %s\" % args\n",
      "    !$command\n",
      "    "
     ],
     "language": "python",
     "metadata": {},
     "outputs": [],
     "prompt_number": 20
    },
    {
     "cell_type": "code",
     "collapsed": false,
     "input": [],
     "language": "python",
     "metadata": {},
     "outputs": []
    }
   ],
   "metadata": {}
  }
 ]
}