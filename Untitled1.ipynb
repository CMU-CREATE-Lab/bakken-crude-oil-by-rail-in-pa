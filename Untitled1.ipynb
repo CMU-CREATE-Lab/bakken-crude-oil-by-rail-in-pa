{
 "metadata": {
  "name": "",
  "signature": "sha256:c5e742a7b72069c0d4197c2cd67742646ab01f22cf6a5f592e064f6490527435"
 },
 "nbformat": 3,
 "nbformat_minor": 0,
 "worksheets": [
  {
   "cells": [
    {
     "cell_type": "code",
     "collapsed": false,
     "input": [
      "import os\n",
      "\n",
      "if not os.path.exists(\"json\"):\n",
      "    os.mkdir(\"json\")\n",
      "    \n",
      "shapefiles = [\"all-cta-rail/qc48l-usa-contig-meters.shp\",\n",
      "    \"csx-rail-selection/csx-qc48l-usa-contig-meters.shp\",\n",
      "    \"ns-rail-selection/ns-qc48l-usa-contig-meters.shp\",\n",
      "    \"csx-halfmile-buffer/csx-804dot67METER-buffer.shp\",\n",
      "    \"ns-halfmile-buffer/ns-804dot67METER-buffer.shp\"]\n",
      "\n",
      "for file in shapefiles:\n",
      "    basename = os.path.splitext(os.path.basename(file))[0]\n",
      "    command = \"ogr2ogr -f GeoJSON -t_srs NAD83 json/%s.json shapefiles/%s\" % (basename, file)\n",
      "    !$command\n",
      "\n"
     ],
     "language": "python",
     "metadata": {},
     "outputs": [],
     "prompt_number": 23
    },
    {
     "cell_type": "code",
     "collapsed": false,
     "input": [
      "if not os.path.exists(\"html\"):\n",
      "    os.mkdir(\"html\")\n",
      "    \n",
      "for file in shapefiles:\n",
      "    basename = os.path.splitext(os.path.basename(file))[0]\n",
      "    command = \"touch html/%s.html\" % basename\n",
      "    !$command"
     ],
     "language": "python",
     "metadata": {},
     "outputs": [],
     "prompt_number": 26
    },
    {
     "cell_type": "code",
     "collapsed": false,
     "input": [
      "# Clip to just PA\n",
      "io = [\n",
      "    (\"json/csx-pa.json\", \"shapefiles/csx-rail-selection/csx-qc48l-usa-contig-meters.shp\"),\n",
      "    (\"json/csx-buffer-pa.json\", \"shapefiles/csx-halfmile-buffer/csx-804dot67METER-buffer.shp\"),\n",
      "    (\"json/ns-pa.json\", \"shapefiles/ns-rail-selection/ns-qc48l-usa-contig-meters.shp\"),\n",
      "    (\"json/ns-buffer-pa.json\", \"shapefiles/ns-halfmile-buffer/ns-804dot67METER-buffer.shp\")\n",
      "]\n",
      "\n",
      "for args in io:\n",
      "    command = \"ogr2ogr -clipdst -80.516667 39.716667 -74.683333 42.266667 -f GeoJSON -t_srs NAD83 %s %s\" % args\n",
      "    print command\n"
     ],
     "language": "python",
     "metadata": {},
     "outputs": [
      {
       "output_type": "stream",
       "stream": "stdout",
       "text": [
        "ogr2ogr -clipdst -80.516667 39.716667 -74.683333 42.266667 -f GeoJSON -t_srs NAD83 json/csx-pa.json shapefiles/csx-rail-selection/csx-qc48l-usa-contig-meters.shp\n",
        "ogr2ogr -clipdst -80.516667 39.716667 -74.683333 42.266667 -f GeoJSON -t_srs NAD83 json/csx-buffer-pa.json shapefiles/csx-halfmile-buffer/csx-804dot67METER-buffer.shp\n",
        "ogr2ogr -clipdst -80.516667 39.716667 -74.683333 42.266667 -f GeoJSON -t_srs NAD83 json/ns-pa.json shapefiles/ns-rail-selection/ns-qc48l-usa-contig-meters.shp\n",
        "ogr2ogr -clipdst -80.516667 39.716667 -74.683333 42.266667 -f GeoJSON -t_srs NAD83 json/ns-buffer-pa.json shapefiles/ns-halfmile-buffer/ns-804dot67METER-buffer.shp\n"
       ]
      }
     ],
     "prompt_number": 44
    },
    {
     "cell_type": "code",
     "collapsed": false,
     "input": [
      "!$command\n"
     ],
     "language": "python",
     "metadata": {},
     "outputs": [],
     "prompt_number": 32
    },
    {
     "cell_type": "code",
     "collapsed": false,
     "input": [],
     "language": "python",
     "metadata": {},
     "outputs": [],
     "prompt_number": 34
    },
    {
     "cell_type": "code",
     "collapsed": false,
     "input": [],
     "language": "python",
     "metadata": {},
     "outputs": []
    }
   ],
   "metadata": {}
  }
 ]
}