{
 "metadata": {
  "name": "",
  "signature": "sha256:86cbf4535cabcb984a0cf553c6553754af1e4c382266f61999ff76b45138f83e"
 },
 "nbformat": 3,
 "nbformat_minor": 0,
 "worksheets": [
  {
   "cells": [
    {
     "cell_type": "code",
     "collapsed": false,
     "input": [
      "import os\n",
      "\n",
      "if not os.path.exists(\"json\"):\n",
      "    os.mkdir(\"json\")\n",
      "    \n",
      "shapefiles = [\"all-cta-rail/qc48l-usa-contig-meters.shp\",\n",
      "    \"csx-rail-selection/csx-qc48l-usa-contig-meters.shp\",\n",
      "    \"ns-rail-selection/ns-qc48l-usa-contig-meters.shp\",\n",
      "    \"csx-halfmile-buffer/csx-804dot67METER-buffer.shp\",\n",
      "    \"ns-halfmile-buffer/ns-804dot67METER-buffer.shp\"]\n",
      "\n",
      "for file in shapefiles:\n",
      "    basename = os.path.splitext(os.path.basename(file))[0]\n",
      "    command = \"ogr2ogr -f GeoJSON -t_srs NAD83 json/%s.json shapefiles/%s\" % (basename, file)\n",
      "    !$command\n",
      "\n"
     ],
     "language": "python",
     "metadata": {},
     "outputs": [],
     "prompt_number": 23
    },
    {
     "cell_type": "code",
     "collapsed": false,
     "input": [
      "if not os.path.exists(\"html\"):\n",
      "    os.mkdir(\"html\")\n",
      "    \n",
      "for file in shapefiles:\n",
      "    basename = os.path.splitext(os.path.basename(file))[0]\n",
      "    command = \"touch html/%s.html\" % basename\n",
      "    !$command"
     ],
     "language": "python",
     "metadata": {},
     "outputs": [],
     "prompt_number": 26
    },
    {
     "cell_type": "code",
     "collapsed": false,
     "input": [],
     "language": "python",
     "metadata": {},
     "outputs": []
    }
   ],
   "metadata": {}
  }
 ]
}